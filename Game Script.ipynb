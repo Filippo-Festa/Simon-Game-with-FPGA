{
 "cells": [
  {
   "cell_type": "markdown",
   "metadata": {
    "slideshow": {
     "slide_type": "fragment"
    }
   },
   "source": [
    "# Game UART"
   ]
  },
  {
   "cell_type": "markdown",
   "metadata": {},
   "source": [
    "### Single pattern"
   ]
  },
  {
   "cell_type": "code",
   "execution_count": null,
   "metadata": {},
   "outputs": [],
   "source": [
    "import serial \n",
    "\n",
    "ser = serial.Serial(\"COM4\", baudrate = 115200)\n",
    "\n",
    "\n",
    "l = [2,4,1,8,2,8]\n",
    "\n",
    "for i in l:\n",
    "    value = chr(i)\n",
    "    print()\n",
    "    print(i)\n",
    "    print(bin(i))\n",
    "    \n",
    "    ser.write(value.encode())"
   ]
  },
  {
   "cell_type": "code",
   "execution_count": null,
   "metadata": {},
   "outputs": [],
   "source": [
    "d = ser.read()\n",
    "print(ord(d))\n",
    "print(bin(ord(d)))"
   ]
  },
  {
   "cell_type": "markdown",
   "metadata": {},
   "source": [
    "### Complete run - Fixed pattern"
   ]
  },
  {
   "cell_type": "code",
   "execution_count": null,
   "metadata": {},
   "outputs": [],
   "source": [
    "import serial \n",
    "import time\n",
    "\n",
    "ser = serial.Serial(\"COM4\", baudrate = 115200)\n",
    "\n",
    "\n",
    "l = [1,2,4,8,1,2]\n",
    "\n",
    "for i in l:\n",
    "    value = chr(i)\n",
    "    print()\n",
    "    print(i)\n",
    "    print(bin(i))\n",
    "    \n",
    "    ser.write(value.encode())\n",
    "d = ser.read()\n",
    "print(\"\\n=>\", ord(d))\n",
    "\n",
    "while True:\n",
    "    if ord(d) == 255:\n",
    "        print(\"\\n\\n\\n\")\n",
    "        l = [1,2,4,8,1,1]\n",
    "        time.sleep(2)\n",
    "        for i in l:\n",
    "            value = chr(i)\n",
    "            print()\n",
    "            print(i)\n",
    "            print(bin(i))\n",
    "            ser.write(value.encode())\n",
    "        d = ser.read()\n",
    "        print(\"\\n=>\", ord(d))\n",
    "        \n",
    "    if ord(d) == 0:\n",
    "        d = ser.read()\n",
    "        print(\"\\n\\n\\n=>\", ord(d))"
   ]
  },
  {
   "cell_type": "markdown",
   "metadata": {},
   "source": [
    "### Complete run - Random pattern"
   ]
  },
  {
   "cell_type": "code",
   "execution_count": null,
   "metadata": {},
   "outputs": [],
   "source": [
    "import numpy.random as npr \n",
    "\n",
    "def rand_pattern():\n",
    "    set = [1,2,4,8]\n",
    "    l = [npr.choice(set)]\n",
    "\n",
    "    for i in range(5):\n",
    "        set = [1,2,4,8]\n",
    "        set.remove(l[i])\n",
    "        l.append(npr.choice(set))\n",
    "    return l\n",
    "\n",
    "\n",
    "#for i in range(25): print(rand_pattern())"
   ]
  },
  {
   "cell_type": "code",
   "execution_count": null,
   "metadata": {},
   "outputs": [],
   "source": [
    "import serial \n",
    "import time\n",
    "\n",
    "ser = serial.Serial(\"COM4\", baudrate = 115200)\n",
    "l = rand_pattern()\n",
    "\n",
    "for i in l:\n",
    "    value = chr(i)\n",
    "    print()\n",
    "    print(i)\n",
    "    print(bin(i))\n",
    "    \n",
    "    ser.write(value.encode())\n",
    "d = ser.read()\n",
    "print(\"\\n=>\", ord(d))\n",
    "\n",
    "while True:\n",
    "    if ord(d) == 255:\n",
    "        print(\"\\n\\n\\n\")\n",
    "        l = rand_pattern()\n",
    "        time.sleep(2)\n",
    "        for i in l:\n",
    "            value = chr(i)\n",
    "            print()\n",
    "            print(i)\n",
    "            print(bin(i))\n",
    "            ser.write(value.encode())\n",
    "        d = ser.read()\n",
    "        print(\"\\n=>\", ord(d))\n",
    "        \n",
    "    if ord(d) == 0:\n",
    "        d = ser.read()\n",
    "        print(\"\\n\\n\\n=>\", ord(d))"
   ]
  },
  {
   "cell_type": "code",
   "execution_count": null,
   "metadata": {},
   "outputs": [],
   "source": []
  }
 ],
 "metadata": {
  "kernelspec": {
   "display_name": "Python 3",
   "language": "python",
   "name": "python3"
  },
  "language_info": {
   "codemirror_mode": {
    "name": "ipython",
    "version": 3
   },
   "file_extension": ".py",
   "mimetype": "text/x-python",
   "name": "python",
   "nbconvert_exporter": "python",
   "pygments_lexer": "ipython3",
   "version": "3.8.5"
  }
 },
 "nbformat": 4,
 "nbformat_minor": 4
}
